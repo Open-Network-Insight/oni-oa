{
 "cells": [
  {
   "cell_type": "code",
   "execution_count": null,
   "metadata": {
    "collapsed": false,
    "scrolled": true,
    "slideshow": {
     "slide_type": "skip"
    }
   },
   "outputs": [],
   "source": [
    "import struct, socket\n",
    "import csv, json \n",
    "import os \n",
    "import datetime\n",
    "import operator\n",
    "import itertools\n",
    "import md5\n",
    "from collections import defaultdict \n",
    "\n",
    "try:\n",
    "    import ipywidgets as widgets # For jupyter/ipython >= 1.4\n",
    "except ImportError:\n",
    "    from IPython.html import widgets\n",
    "from IPython.display import display, HTML, clear_output, Javascript \n",
    "\n",
    "with open('/etc/duxbay.conf') as conf:\n",
    "    for line in conf.readlines():\n",
    "        if \"DBNAME=\" in line: DBNAME = line.split(\"=\")[1].strip('\\n').replace(\"'\",\"\");      \n",
    "        elif \"IMPALA_DEM=\" in line: IMPALA_DEM = line.split(\"=\")[1].strip('\\n').replace(\"'\",\"\"); \n",
    "            \n",
    "path = os.getcwd().split(\"/\") \n",
    "date = path[len(path)-1]   \n",
    "dpath = '/'.join(['data' if var == 'ipynb' else var for var in path]) + '/'\n",
    "sconnect = dpath + 'proxy_scores.tsv' \n",
    "threat_f = dpath + \"threats.csv\"\n",
    "anchor = ''\n",
    "anchor_hash = ''\n",
    "clientips  = defaultdict(int)\n",
    "reqmethods = defaultdict(int)\n",
    "rescontype = defaultdict(int)\n",
    "referers   = defaultdict(int)\n",
    "refered    = defaultdict(int)\n",
    "requests = []\n",
    "top_results = 20 "
   ]
  },
  {
   "cell_type": "code",
   "execution_count": null,
   "metadata": {
    "collapsed": false
   },
   "outputs": [],
   "source": [
    "# Widget styles and initialization\n",
    "topBox = widgets.Box()\n",
    "bottomBox = widgets.Box()\n",
    "mainBoxes_css = (\n",
    "    (None, 'width', '90%'),\n",
    "    (None, 'margin', '0 auto'),\n",
    ")\n",
    "\n",
    "topBox._css = mainBoxes_css\n",
    "bottomBox._css = mainBoxes_css \n",
    "\n",
    "threatBox = widgets.HBox(width='100%', height='auto')\n",
    "threat_title = widgets.HTML(height='25px', width='100%')\n",
    "threat_list_container = widgets.Box(width='80%', height='100%')\n",
    "threat_button_container = widgets.Box(width='20%', height='100%')\n",
    "susp_select = widgets.Select(height='100%', width='99%')\n",
    "search_btn = widgets.Button(description='Search',height='100%', width='65px')\n",
    "search_btn.button_style = 'primary'\n",
    "susp_select._css = (\n",
    "    (None, 'height', '90%'),\n",
    "    (None, 'width', '95%'),\n",
    "    ('select', 'overflow-x', 'auto'),\n",
    "    ('select', 'margin', 0)\n",
    ")\n",
    "\n",
    "resultSummaryBox = widgets.Box()\n",
    "result_title = widgets.HTML(width='100%')\n",
    "result_summary_box = widgets.HBox(width='100%')\n",
    "result_summary_container = widgets.Box(width='80%')\n",
    "result_button_container =  widgets.Box(width='20%')\n",
    "result_summary_box.children = [result_title, result_summary_container, result_button_container]\n",
    " \n",
    "resultTableBox = widgets.Box()\n",
    "result_html_title = widgets.HTML(height='25px', width='100%')\n",
    "result_html_box = widgets.Box() #this one has the scroll\n",
    "result_html = widgets.HTML(width='100%')\n",
    "result_box_css = (\n",
    "    (None, 'overflow', 'hidden'),\n",
    "    (None, 'width', '100%'),\n",
    ")\n",
    "\n",
    "resultSummaryBox._css = result_box_css\n",
    "resultTableBox._css = result_box_css\n",
    " \n",
    "result_html_box._css = (\n",
    "    (None, 'overflow','auto'),\n",
    "    (None, 'max-height', '300px'), \n",
    ")\n",
    "\n",
    "threat_button_container._css = (\n",
    "    (None, 'padding-top', '30px'), \n",
    ")  \n",
    "\n",
    "topBox.children = [threatBox]\n",
    "bottomBox.children = [resultSummaryBox,resultTableBox]\n",
    "\n",
    "threat_list_container.children = [threat_title,susp_select]\n",
    "threat_button_container.children = [search_btn]\n",
    "threatBox.children = [threat_list_container, threat_button_container]"
   ]
  },
  {
   "cell_type": "markdown",
   "metadata": {},
   "source": [
    "**Interface**"
   ]
  },
  {
   "cell_type": "code",
   "execution_count": null,
   "metadata": {
    "collapsed": false,
    "scrolled": false
   },
   "outputs": [],
   "source": [
    "yy = date[0:4]\n",
    "mm = date[4:6] \n",
    "dd = date[6:8]\n",
    "\n",
    "\n",
    "def fill_list(list_control,source):\n",
    "    susp_select.options = list_control\n",
    "    susp_select.selected_label = list_control[0]\n",
    "\n",
    "\n",
    "def data_loader():\n",
    "    clear_output() \n",
    "    c_uri = []\n",
    "    uri_sev=[]\n",
    "\n",
    "    #discards threats already commented\n",
    "    if os.path.isfile(threat_f) and not file_is_empty(threat_f):\n",
    "        with open(threat_f, 'r') as th:\n",
    "            t_read = csv.reader(th, delimiter='|')\n",
    "            t_read.next()\n",
    "            for row in t_read: \n",
    "                if row[0] != '' : c_uri.append(row[0])\n",
    "            \n",
    "    with open(sconnect, 'r') as f:\n",
    "        reader = csv.reader(f, delimiter='\\t')\n",
    "        reader.next()\n",
    "        for row in reader:\n",
    "        #   \"p_date\":0 , \"p_time\":1, \"clientip\":2 , \"host\":3, \"reqmethod\":4 , \"useragent\":5 , \"resconttype\":6\n",
    "        # , \"duration\":7, \"username\":8 , \"webcat\":9, \"referer\":10, \"respcode\":11, \"uriport\":12, \"uripath\":13\n",
    "        # , \"uriquery\":14, \"serverip\":15, \"scbytes\":16 , \"csbytes\":17, \"fulluri\":18, \"word\":19\n",
    "            #Forms a hash out of the anchor to use it as the file name\n",
    "            if row[22] == '1': \n",
    "                row_hash = md5.new(str(row[18])).hexdigest()\n",
    "                if row[18] not in uri_sev and row_hash not in c_uri:\n",
    "                    uri_sev.append(row[18])\n",
    "\n",
    "    threat_title.value =\"<h4>Suspicious URI</h4>\"\n",
    "                       \n",
    "    if len(uri_sev) == 0:\n",
    "        display(Javascript(\"$('.widget-area > .widget-subarea > *').remove();\"))   \n",
    "        display(widgets.HTML(value=\"There are not high risk results.\"),)\n",
    "    else:  \n",
    "        sorted_dict = sorted(uri_sev, key=operator.itemgetter(0))       \n",
    "        fill_list(sorted_dict,susp_select)     \n",
    "        \n",
    "    \n",
    "def start_investigation(): \n",
    "    display(Javascript(\"$('.widget-area > .widget-subarea > *').remove();\"))    \n",
    "    data_loader()\n",
    "    if susp_select.options:\n",
    "        display_controls()  \n",
    "\n",
    "        \n",
    "def display_controls():  \n",
    "    display(topBox) \n",
    "  \n",
    "    def search_ip(b):  \n",
    "        global anchor  \n",
    "        global anchor_hash\n",
    "        global ir_f\n",
    "        anchor='' \n",
    "        anchor_hash = ''\n",
    "        anchor = susp_select.value   \n",
    "        anchor_hash = md5.new(str(anchor)).hexdigest()\n",
    "        removeWidget(3)\n",
    "        removeWidget(2)\n",
    "        removeWidget(1) \n",
    "        height=80        \n",
    "        ir_f = dpath + 'es-' + anchor_hash + \".csv\" \n",
    "        table = \"<table><th>TIME</th><th>CLIENT IP</th><th>USERNAME</th><th>DURATION</th> \\\n",
    "        <th>FULL URI</th><th>WEB CATEGORY</th><th>RESPONSE CODE</th><th>REQUEST METHOD</th><th>USER AGENT</th> \\\n",
    "        <th>MIME TYPE</th><th>REFERER</th><th>URI PORT</th><th>PROXY IP</th><th>SERVER BYTES</th><th>CLIENT BYTES</th>\"\n",
    "        \n",
    "        if not os.path.isfile(ir_f) or (os.path.isfile(ir_f) and file_is_empty(ir_f)):\n",
    "            # time:0, clientip:1, username:2, duration:3, fullURI:4, webcat:5, respcode:6, reqmethod:7\n",
    "            # useragent:8, resconttype: 9, referer: 10, uriport:11, serverip:12, scbytes:13, csbytes:14\n",
    "            imp_query = (\"\\\"SELECT p_time, clientip, username, duration, fulluri, webcat, respcode, reqmethod,\\\n",
    "                 useragent, resconttype, referer, uriport, serverip, scbytes, csbytes FROM {0}.proxy\\\n",
    "                 WHERE y={1} AND m={2} AND d={3} AND (fulluri='{4}' OR referer ='{4}') ORDER BY p_time\\\"\")   \n",
    "            \n",
    "            imp_query = imp_query.format(DBNAME,yy,mm,dd,anchor) \n",
    "            !impala-shell -i $IMPALA_DEM -q \"INVALIDATE METADATA\"\n",
    "            !impala-shell -i $IMPALA_DEM --print_header -B --output_delimiter='\\t' -q $imp_query -o $ir_f\n",
    "           \n",
    "        clear_output() \n",
    "        req_method = {}\n",
    "\n",
    "        with open(ir_f, 'r') as f:\n",
    "            #Creates default dictionaries\n",
    "            global reqmethods\n",
    "            global rescontype\n",
    "            global referers\n",
    "            global refered\n",
    "            global requests\n",
    "            global clientips\n",
    "            clientips  = defaultdict(int)\n",
    "            reqmethods = defaultdict(int)\n",
    "            rescontype = defaultdict(int)\n",
    "            referers   = defaultdict(int)\n",
    "            refered    = defaultdict(int)\n",
    "            try:\n",
    "                reader = csv.reader(f, delimiter='\\t')\n",
    "                reader.next() # Skip headers\n",
    "                i=0         \n",
    "                for row in reader:\n",
    "                    clientips[row[1]]+=1\n",
    "                    reqmethods[row[7]]+=1\n",
    "                    rescontype[row[9]]+=1\n",
    "                    if row[10] != anchor:\n",
    "                        #Source URI's that refered the user to the threat\n",
    "                        referers[row[10]]+=1\n",
    "                        if({'clientip':row[1],'referer':row[10],'reqmethod':row[7],'resconttype':row[9]}) not in requests:\n",
    "                            requests.append({'clientip':row[1],'referer':row[10],'reqmethod':row[7],'resconttype':row[9]})\n",
    "                        if i < top_results:\n",
    "                            table += \"<tr><td>\"+row[0]+\"</td><td>\"+row[1]+\"</td>\\\n",
    "                            <td><div class='oni-text-wrapper' data-toggle='tooltip'>\"+row[2]+\"</div></td><td>\"+row[3]+\"</td>\\\n",
    "                            <td><div class='oni-text-wrapper' data-toggle='tooltip'>\"+row[4]+\"</div></td><td>\"+row[5]+\"</td>\\\n",
    "                            <td>\"+row[6]+\"</td><td>\"+row[7]+\"</td>\\\n",
    "                            <td><div class='oni-text-wrapper' data-toggle='tooltip'>\"+row[8]+\"</div></td>\\\n",
    "                            <td><div class='oni-text-wrapper' data-toggle='tooltip'>\"+row[9]+\"</div></td>\\\n",
    "                            <td><div class='oni-text-wrapper' data-toggle='tooltip'>\"+row[10]+\"</div></td>\\\n",
    "                            <td>\"+row[11]+\"</td><td>\"+row[12]+\"</td><td>\"+row[13]+\"</td><td>\"+row[14]+\"</td></tr>\"\n",
    "                    else:\n",
    "                        #Destination URI's refered by the threat\n",
    "                        refered[row[4]]+=1\n",
    "                    height += 20\n",
    "                    i+=1\n",
    "                table += \"</table>\"                \n",
    "                result_html_title.value='<h4>Displaying top {0} search results</h4>'.format(top_results)\n",
    "            except:\n",
    "                table = \"<table></table>\"\n",
    "                result_html_title.value='<h4>No results were found.</h4>'\n",
    "                \n",
    "            result_html.value=table\n",
    "            result_html_box.children = [result_html]\n",
    " \n",
    "            display_threat_box(anchor)\n",
    "            resultTableBox.children = [result_html_title, result_html_box]\n",
    "            display(bottomBox)\n",
    "    search_btn.on_click(search_ip)\n",
    "\n",
    "        \n",
    "def display_threat_box(ip):    \n",
    "    result_title.value=\"<h4 class='oni-text-wrapper oni-text-xlg' data-toggle='tooltip'>Threat summary for \" + anchor +\"</h4>\"\n",
    "    tc_txt_title = widgets.Text(value='', placeholder='Threat Title', width='100%')\n",
    "    tc_txa_summary = widgets.Textarea(value='', height=100, width='95%')\n",
    "    tc_btn_save = widgets.Button(description='Save', width='65px', layout='width:100%')\n",
    "    tc_btn_save.button_style = 'primary'\n",
    "    \n",
    "    tc_txt_title._css = (\n",
    "        (None, 'width', '95%'),\n",
    "    )\n",
    "    \n",
    "    result_summary_container.children = [tc_txt_title, tc_txa_summary]\n",
    "    result_button_container.children=[tc_btn_save]\n",
    "    result_summary_box.children = [result_summary_container, result_button_container]\n",
    "    resultSummaryBox.children = [result_title,result_summary_box]\n",
    "    \n",
    "    def save_threat_summary(b):\n",
    "        global anchor \n",
    "        global anchor_hash \n",
    "        if anchor != '':      \n",
    "            global threat_f\n",
    "            if not os.path.exists(threat_f):  \n",
    "                with open(threat_f, 'w') as comment:\n",
    "                    comment.write('hash|title|summary\\n')\n",
    "            \n",
    "            with open(threat_f, 'a') as comment:\n",
    "                comment.write(anchor_hash + '|' + tc_txt_title.value + '|' +\n",
    "                                  tc_txa_summary.value.replace('\\n', '\\\\n') + '\\n') \n",
    "            \n",
    "            display(Javascript(\"$(\\\"option[data-value='\" + anchor +\"']\\\").remove();\"))   \n",
    "            display(Javascript(\"$('.widget-area > .widget-subarea > .widget-box:gt(0)').remove();\"))\n",
    "            \n",
    "            response = \"Summary successfully saved\"\n",
    "            incident_progression(anchor, anchor_hash)\n",
    "            timeline(anchor, anchor_hash)\n",
    "        else:\n",
    "            response = \"No data selected\" \n",
    "       \n",
    "        susp_select.selected_label = susp_select.options[0]\n",
    "        display(widgets.Box((widgets.HTML(value=response, width='100%'),)))\n",
    "    \n",
    "    tc_btn_save.on_click(save_threat_summary)\n",
    "    \n",
    "    \n",
    "def incident_progression(anchor, anchor_hash):\n",
    "    file_name = dpath + 'incident-progression-'+anchor_hash+'.json'\n",
    "    jsonstring = json.dumps({'fulluri':anchor, 'requests':requests,'referer_for':referers.keys()})\n",
    "    if not os.path.exists(file_name):\n",
    "         with open(file_name, 'w') as f:\n",
    "            f.write(jsonstring)        \n",
    "    response = \"Incident progression successfuly created\"\n",
    "    display(widgets.Box((widgets.HTML(value=response, width='100%'),)))\n",
    "    \n",
    "    \n",
    "def timeline(anchor, anchor_hash): \n",
    "    response = \"\"\n",
    "    susp_ips = []\n",
    "    if clientips:\n",
    "        srtlist = sorted(list(clientips.items()), key=lambda x: x[1], reverse=True)\n",
    "        for val in srtlist[:top_results]:\n",
    "            susp_ips.append(val[0])  \n",
    "            \n",
    "    if anchor != \"\":\n",
    "        sbdet_f = dpath + \"timeline-\"+anchor_hash+\".tsv\"\n",
    "        if not os.path.isfile(sbdet_f) or (os.path.isfile(sbdet_f) and file_is_empty(sbdet_f)):  \n",
    "            imp_query = \"\\\"SELECT concat(cast(p_date as string), ' ', cast(MIN(p_time) as string)) AS tstart,\\\n",
    "            concat(cast(p_date as string), ' ', cast(MAX(p_time) as string)) AS tend, SUM(duration) AS duration,\\\n",
    "            clientip, respcode from {0}.proxy WHERE fulluri='{1}' AND clientip IN ({5}) \\\n",
    "            AND y={2} AND m={3} AND d={4} GROUP BY clientip, p_time, respcode, p_date ORDER BY clientip\\\"\"\n",
    "\n",
    "            imp_query=imp_query.format(DBNAME,anchor,yy,mm,dd,(\"'\" + \"','\".join(susp_ips) + \"'\")) \n",
    "            !impala-shell -i $IMPALA_DEM -q \"INVALIDATE METADATA\"\n",
    "            !impala-shell -i $IMPALA_DEM --print_header -B --output_delimiter='\\t' -q $imp_query -o $sbdet_f\n",
    "            clear_output()\n",
    "            \n",
    "            response = \"Timeline successfully saved\"\n",
    "    else:\n",
    "        response = \"Timeline couldn't be created\"\n",
    "    \n",
    "    display(widgets.Box((widgets.HTML(value=response, width='100%'),)))\n",
    "    data_loader()\n",
    "    \n",
    "def file_is_empty(path):\n",
    "    return os.stat(path).st_size==0\n",
    "\n",
    "def removeWidget(index):\n",
    "    js_command = \"$('.widget-area > .widget-subarea > .widget-box:eq({0})').remove();\".format(index)    \n",
    "    display(Javascript(js_command)) "
   ]
  },
  {
   "cell_type": "code",
   "execution_count": null,
   "metadata": {
    "collapsed": false,
    "scrolled": false
   },
   "outputs": [],
   "source": [
    "start_investigation() "
   ]
  }
 ],
 "metadata": {
  "kernelspec": {
   "display_name": "Python 2",
   "language": "python",
   "name": "python2"
  },
  "language_info": {
   "codemirror_mode": {
    "name": "ipython",
    "version": 2
   },
   "file_extension": ".py",
   "mimetype": "text/x-python",
   "name": "python",
   "nbconvert_exporter": "python",
   "pygments_lexer": "ipython2",
   "version": "2.7.5"
  },
  "widgets": {
   "state": {
    "3011ac7fda384121807c1e6d3bb53a90": {
     "views": [
      {
       "cell_index": 4
      }
     ]
    },
    "3693106b0f0149329400060b8b292b47": {
     "views": [
      {
       "cell_index": 4
      }
     ]
    },
    "5926f90230194ce1aedc84df38a03a58": {
     "views": [
      {
       "cell_index": 4
      }
     ]
    },
    "701ca7c26472440f8696c37ac8a674c5": {
     "views": [
      {
       "cell_index": 4
      }
     ]
    },
    "8034b3d1111b4a84b95d3d652372d4c6": {
     "views": [
      {
       "cell_index": 4
      }
     ]
    },
    "b708ec7f8efc412fadf71f1e5bb10c04": {
     "views": [
      {
       "cell_index": 4
      }
     ]
    },
    "c4002ceed25e4c8bbcd03ed86b866948": {
     "views": [
      {
       "cell_index": 4
      }
     ]
    },
    "c8d5f7201fb147108797a161ca8414dc": {
     "views": [
      {
       "cell_index": 5
      },
      {
       "cell_index": 5
      },
      {
       "cell_index": 5
      },
      {
       "cell_index": 5
      },
      {
       "cell_index": 5
      }
     ]
    }
   },
   "version": "1.2.0"
  }
 },
 "nbformat": 4,
 "nbformat_minor": 0
}
