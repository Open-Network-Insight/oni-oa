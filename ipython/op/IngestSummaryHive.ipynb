{
 "cells": [
  {
   "cell_type": "code",
   "execution_count": 4,
   "metadata": {
    "collapsed": false
   },
   "outputs": [
    {
     "name": "stdout",
     "output_type": "stream",
     "text": [
      "\"set hive.cli.print.header=true; SELECT flow_date as date, flows, bytes, packets, avg_bps, avg_pps, avg_bpp FROM netflow_sum WHERE flow_date >='20150717 00:00' AND flow_date <='20150730 00:00'\" > /home/duxbury/ipython/dataset/ingest_summary.tsv\n"
     ]
    }
   ],
   "source": [
    "import os\n",
    "!source /etc/oni.conf\n",
    "!export LUSER\n",
    "\n",
    "file_name = os.environ['LUSER'] + \"/ipython/dataset/ingest_summary.tsv\"\n",
    "\n",
    "initial_date = '20150717 00:00'\n",
    "end_date = '20150730 00:00'\n",
    "\n",
    "hive_q = (\"\\\"set hive.cli.print.header=true; \"\n",
    "         +\"SELECT flow_date as date, flows, bytes, packets, avg_bps, avg_pps, avg_bpp FROM netflow_sum \"\n",
    "         + \"WHERE flow_date >='{0}' \"\n",
    "         + \"AND flow_date <='{1}'\\\" > {2}\")\n",
    "\n",
    "hive_q = hive_q.format(initial_date, end_date, file_name)\n",
    "print hive_q\n",
    "!hive -S -e $hive_q"
   ]
  },
  {
   "cell_type": "code",
   "execution_count": null,
   "metadata": {
    "collapsed": true
   },
   "outputs": [],
   "source": []
  }
 ],
 "metadata": {
  "kernelspec": {
   "display_name": "Python 2",
   "language": "python",
   "name": "python2"
  },
  "language_info": {
   "codemirror_mode": {
    "name": "ipython",
    "version": 2
   },
   "file_extension": ".py",
   "mimetype": "text/x-python",
   "name": "python",
   "nbconvert_exporter": "python",
   "pygments_lexer": "ipython2",
   "version": "2.7.5"
  }
 },
 "nbformat": 4,
 "nbformat_minor": 0
}
