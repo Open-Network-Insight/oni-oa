{
 "metadata": {
  "name": "",
  "signature": "sha256:f667f1a7bfb588fd4fca35c229c42529029bc26737c6a1e5e4df9d39ac201c13"
 },
 "nbformat": 3,
 "nbformat_minor": 0,
 "worksheets": [
  {
   "cells": [
    {
     "cell_type": "code",
     "collapsed": false,
     "input": [
      "import csv\n",
      "import numpy as np\n",
      "import matplotlib.pyplot as plt\n",
      "%matplotlib inline\n",
      "\n",
      "\n",
      "opsroot = '/home/hadoop/ipython/vast/dataset/dprof/'\n",
      "rawip = opsroot + 'raw_ip.tsv'\n",
      "rawport = opsroot + 'raw_port.tsv'\n"
     ],
     "language": "python",
     "metadata": {},
     "outputs": [],
     "prompt_number": 146
    },
    {
     "cell_type": "code",
     "collapsed": false,
     "input": [
      "hivestr = (\" \\\"select firstseensrcip,log(sum(firstseensrctotalbytes)),\" + \n",
      "           \"log(sum(firstseendesttotalbytes)), log(count(firstseensrcip))\" +\n",
      "            \"FROM vast_netflow WHERE firstseensrctotalbytes is not NULL  GROUP BY  firstseensrcip ;\\\" \")\n",
      "hivestr += \" > \" + rawip;\n",
      "print hivestr\n",
      "!hive -S -e $hivestr\n"
     ],
     "language": "python",
     "metadata": {},
     "outputs": [
      {
       "output_type": "stream",
       "stream": "stdout",
       "text": [
        " \"select firstseensrcip,log(sum(firstseensrctotalbytes)),log(sum(firstseendesttotalbytes)), log(count(firstseensrcip))FROM vast_netflow WHERE firstseensrctotalbytes is not NULL  GROUP BY  firstseensrcip ;\"  > /home/hadoop/ipython/vast/dataset/dprof/raw_ip.tsv\n"
       ]
      },
      {
       "output_type": "stream",
       "stream": "stdout",
       "text": [
        "15/04/07 20:08:15 WARN conf.HiveConf: DEPRECATED: Configuration property hive.metastore.local no longer has any effect. Make sure to provide a valid value for hive.metastore.uris if you are connecting to a remote metastore.\r\n"
       ]
      }
     ],
     "prompt_number": 147
    },
    {
     "cell_type": "code",
     "collapsed": false,
     "input": [
      "!wc -l $rawip\n",
      "!head -n 10 $rawip"
     ],
     "language": "python",
     "metadata": {},
     "outputs": [
      {
       "output_type": "stream",
       "stream": "stdout",
       "text": [
        "1424 /home/hadoop/ipython/vast/dataset/dprof/raw_ip.tsv\r\n"
       ]
      },
      {
       "output_type": "stream",
       "stream": "stdout",
       "text": [
        "10.0.0.10\t21.15450971877783\t17.666808816563645\t8.025516386489008\r\n",
        "10.0.0.5\t21.080803933461755\t17.53542808373872\t7.976938756959434\r\n",
        "10.0.125.238\t12.558938343494946\t12.682673217023945\t6.455198563340122\r\n",
        "10.0.28.31\t14.674838903842591\t15.779835256535462\t8.535818655539403\r\n",
        "10.1.0.75\t19.693828405604826\t16.149615248031214\t6.962243464266207\r\n",
        "10.12.14.15\t19.742779874337124\t20.49925716152023\t14.089923483379946\r\n",
        "10.13.77.4\t16.339537595360294\t18.8367706748648\t9.05742226555147\r\n",
        "10.156.165.117\t15.738353405038914\t19.285405917009953\t8.602269363771356\r\n",
        "10.156.165.54\t12.556708390159606\t12.680690612326655\t6.455198563340122\r\n",
        "10.170.32.36\t14.696302601349519\t15.795154139802175\t8.558527054909215\r\n"
       ]
      }
     ],
     "prompt_number": 140
    },
    {
     "cell_type": "code",
     "collapsed": false,
     "input": [
      "ipaddr = []\n",
      "ipvals = np.zeros([0,6],np.float32);\n",
      "ipidx = np.zeros([1,6],np.float32);\n",
      "with open(rawip, 'r') as f:\n",
      "    reader = csv.reader(f,delimiter='\\t') \n",
      "    #reader.next();\n",
      "    rowct = 1\n",
      "    for row in reader:\n",
      "        ipaddr.append( row[0] );   \n",
      "        if row[2] != 'NULL':\n",
      "            ipidx[:,:] = [np.float32(row[1]),np.float32(row[2]),np.float32(row[3]),0.0,0.0,0.0]\n",
      "        else:\n",
      "            print row\n",
      "            ipidx[:,:] = [np.float32(row[1]),0,np.float32(row[3]),0.0,0.0,0.0]\n",
      "        ipvals = np.concatenate([ipvals,ipidx])\n",
      "        #if rowct == 10:\n",
      "        #   break;\n",
      "        rowct += 1"
     ],
     "language": "python",
     "metadata": {},
     "outputs": [
      {
       "output_type": "stream",
       "stream": "stdout",
       "text": [
        "['172.10.0.50', '12.604026279687803', 'NULL', '7.29505641646263']\n",
        "['192.168.3.16', '6.984716320118266', 'NULL', '2.4849066497880004']\n",
        "['192.168.3.17', '14.676867693373525', 'NULL', '5.58724865840025']\n",
        "['192.168.3.18', '14.677704068118144', 'NULL', '5.579729825986222']\n",
        "['172.0.0.1', '14.143590535022893', 'NULL', '6.311734809152915']\n",
        "['192.168.3.15', '7.138866999945524', 'NULL', '1.3862943611198906']\n"
       ]
      }
     ],
     "prompt_number": 141
    },
    {
     "cell_type": "code",
     "collapsed": false,
     "input": [
      "inmin = np.floor(np.min(ipvals[:,0]))\n",
      "inmax = np.ceil(np.max(ipvals[:,0]))\n",
      "outmin = np.floor(np.min(ipvals[:,1]))\n",
      "outmax = np.ceil(np.max(ipvals[:,1]))\n",
      "conmin = np.floor(np.min(ipvals[:,2]))\n",
      "conmax = np.ceil(np.max(ipvals[:,2]))\n",
      "nbins = 100.0\n",
      "\n",
      "ipin_hist,ipin_edges = np.histogram(ipvals[:,0],nbins,[np.floor(inmin),np.ceil(inmax)])\n",
      "ipout_hist,ipout_edges = np.histogram(ipvals[:,1],nbins,[np.floor(outmin),np.ceil(outmax)])\n",
      "ipcon_hist,ipcon_edges = np.histogram(ipvals[:,2],nbins,[np.floor(conmin),np.ceil(conmax)])"
     ],
     "language": "python",
     "metadata": {},
     "outputs": [],
     "prompt_number": 144
    },
    {
     "cell_type": "code",
     "collapsed": false,
     "input": [
      "print inmin,inmax\n",
      "print len(ipvals[:,0])\n",
      "print ipvals[:,0], np.floor((ipvals[:,0]-inmin)/((inmax-inmin)/nbins))\n",
      "print ipcon_edges"
     ],
     "language": "python",
     "metadata": {},
     "outputs": [
      {
       "output_type": "stream",
       "stream": "stdout",
       "text": [
        "6.0 24.0\n",
        "1424\n",
        "[ 21.1545105   21.08080482  12.55893803 ...,  15.26029205  15.44495773\n",
        "   7.1388669 ] [ 84.  83.  36. ...,  51.  52.   6.]\n",
        "[  1.     1.16   1.32   1.48   1.64   1.8    1.96   2.12   2.28   2.44\n",
        "   2.6    2.76   2.92   3.08   3.24   3.4    3.56   3.72   3.88   4.04\n",
        "   4.2    4.36   4.52   4.68   4.84   5.     5.16   5.32   5.48   5.64\n",
        "   5.8    5.96   6.12   6.28   6.44   6.6    6.76   6.92   7.08   7.24\n",
        "   7.4    7.56   7.72   7.88   8.04   8.2    8.36   8.52   8.68   8.84   9.\n",
        "   9.16   9.32   9.48   9.64   9.8    9.96  10.12  10.28  10.44  10.6\n",
        "  10.76  10.92  11.08  11.24  11.4   11.56  11.72  11.88  12.04  12.2\n",
        "  12.36  12.52  12.68  12.84  13.    13.16  13.32  13.48  13.64  13.8\n",
        "  13.96  14.12  14.28  14.44  14.6   14.76  14.92  15.08  15.24  15.4\n",
        "  15.56  15.72  15.88  16.04  16.2   16.36  16.52  16.68  16.84  17.  ]\n"
       ]
      }
     ],
     "prompt_number": 145
    },
    {
     "cell_type": "code",
     "collapsed": false,
     "input": [
      "hivestr = (\"\\\"SELECT dport as port,count(*) FROM netflow_20140708 GROUP BY dport SORT BY dport\\\" > \" + rawport )\n",
      "print hivestr\n",
      "!hive -S -e $hivestr\n",
      "hivestr = (\"\\\"SELECT sport as port,count(*) FROM netflow_20140708 GROUP BY sport SORT BY sport\\\" >> \" + rawport)\n",
      "print hivestr\n",
      "!hive -S -e $hivestr"
     ],
     "language": "python",
     "metadata": {},
     "outputs": [
      {
       "output_type": "stream",
       "stream": "stdout",
       "text": [
        "\"SELECT dport as port,count(*) FROM netflow_20140708 GROUP BY dport SORT BY dport\" > /home/hadoop/ipython/dataset/dp/20140708/raw_port.tsv\n"
       ]
      },
      {
       "output_type": "stream",
       "stream": "stdout",
       "text": [
        "15/03/01 19:28:10 WARN conf.HiveConf: DEPRECATED: Configuration property hive.metastore.local no longer has any effect. Make sure to provide a valid value for hive.metastore.uris if you are connecting to a remote metastore.\r\n"
       ]
      },
      {
       "output_type": "stream",
       "stream": "stdout",
       "text": [
        "\"SELECT sport as port,count(*) FROM netflow_20140708 GROUP BY sport SORT BY sport\" >> /home/hadoop/ipython/dataset/dp/20140708/raw_port.tsv\n"
       ]
      },
      {
       "output_type": "stream",
       "stream": "stdout",
       "text": [
        "15/03/01 19:32:41 WARN conf.HiveConf: DEPRECATED: Configuration property hive.metastore.local no longer has any effect. Make sure to provide a valid value for hive.metastore.uris if you are connecting to a remote metastore.\r\n"
       ]
      }
     ],
     "prompt_number": 21
    },
    {
     "cell_type": "code",
     "collapsed": false,
     "input": [],
     "language": "python",
     "metadata": {},
     "outputs": []
    },
    {
     "cell_type": "raw",
     "metadata": {},
     "source": []
    },
    {
     "cell_type": "code",
     "collapsed": false,
     "input": [
      "portdict = {}\n",
      "with open(rawport, 'r') as f:\n",
      "    reader = csv.reader(f,delimiter='\\t') \n",
      "    reader.next();\n",
      "    rowct = 1\n",
      "    for row in reader:\n",
      "        if row[0] == \"NULL\":\n",
      "            break\n",
      "        if row[0] in portdict:\n",
      "            portdict[int(row[0])] += np.uint32(row[1]);\n",
      "        else:\n",
      "            portdict[int(row[0])] = np.uint32(row[1]);\n",
      "        "
     ],
     "language": "python",
     "metadata": {},
     "outputs": [],
     "prompt_number": 44
    },
    {
     "cell_type": "code",
     "collapsed": false,
     "input": [
      "print('Well Known Ports')\n",
      "#p1 = plt.hist(portdict.values(),bins=1000, range=(0,1024))\n",
      "#p1 = plt.bar(portdict.keys(),portdict.values())\n",
      "plt.show()\n",
      "#ax = plt.gca();\n",
      "#ax.invert_yaxis()\n",
      "#ax.set_aspect('auto', 'datalim')\n",
      "\n",
      "#ax.set_xlabel('histogram bins',labelpad=3)\n",
      "#ax.set_ylabel('connection count',labelpad=15)\n",
      "#fig = plt.gcf()\n",
      "#fig.set_size_inches(14,5)\n",
      "#mpld3.display(fig)\n"
     ],
     "language": "python",
     "metadata": {},
     "outputs": [
      {
       "output_type": "stream",
       "stream": "stdout",
       "text": [
        "Well Known Ports\n"
       ]
      },
      {
       "metadata": {},
       "output_type": "display_data",
       "png": "[encoded data removed]",
       "text": [
        "<matplotlib.figure.Figure at 0x4b77510>"
       ]
      }
     ],
     "prompt_number": 47
    },
    {
     "cell_type": "code",
     "collapsed": false,
     "input": [
      "print portdict.values()"
     ],
     "language": "python",
     "metadata": {},
     "outputs": []
    },
    {
     "cell_type": "code",
     "collapsed": false,
     "input": [],
     "language": "python",
     "metadata": {},
     "outputs": []
    }
   ],
   "metadata": {}
  }
 ]
}