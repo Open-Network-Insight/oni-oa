{
 "metadata": {
  "name": "",
  "signature": "sha256:89cc93f1ebba9cb7e8d9027f004275436e53b66c8018a5253c50c8b2b1dde82d"
 },
 "nbformat": 3,
 "nbformat_minor": 0,
 "worksheets": [
  {
   "cells": [
    {
     "cell_type": "code",
     "collapsed": false,
     "input": [
      "import socket\n",
      "import struct\n",
      "\n",
      "print \"modules loaded\""
     ],
     "language": "python",
     "metadata": {},
     "outputs": [
      {
       "output_type": "stream",
       "stream": "stdout",
       "text": [
        "modules loaded\n"
       ]
      }
     ],
     "prompt_number": 1
    },
    {
     "cell_type": "code",
     "collapsed": false,
     "input": [
      "srcaddr = 3230042433\n",
      "dstaddr = 3230042433 + (2**5)\n",
      "srcip = socket.inet_ntoa(struct.pack('!L', srcaddr))\n",
      "dstip = socket.inet_ntoa(struct.pack('!L', dstaddr))\n",
      "print srcip,dstip"
     ],
     "language": "python",
     "metadata": {},
     "outputs": [
      {
       "output_type": "stream",
       "stream": "stdout",
       "text": [
        "192.134.137.65 192.134.137.97\n"
       ]
      }
     ],
     "prompt_number": 7
    },
    {
     "cell_type": "code",
     "collapsed": false,
     "input": [
      "ip = '192.134.137.65'\n",
      "print struct.unpack(\"!L\", socket.inet_aton(ip))[0]\n",
      "ip = '192.134.137.94'\n",
      "print struct.unpack(\"!L\", socket.inet_aton(ip))[0]"
     ],
     "language": "python",
     "metadata": {},
     "outputs": [
      {
       "output_type": "stream",
       "stream": "stdout",
       "text": [
        "3230042433\n",
        "3230042462\n"
       ]
      }
     ],
     "prompt_number": 4
    },
    {
     "cell_type": "code",
     "collapsed": false,
     "input": [
      "LIPINT=3230042433\n",
      "RIPINT=3230042462\n",
      "!echo $SIPINT"
     ],
     "language": "python",
     "metadata": {},
     "outputs": [
      {
       "output_type": "stream",
       "stream": "stdout",
       "text": [
        "3230042433\r\n"
       ]
      }
     ],
     "prompt_number": 9
    },
    {
     "cell_type": "code",
     "collapsed": false,
     "input": [
      "# turn into aggregated query to return the matrix\n",
      "!hive -S -e 'SELECT * FROM nfts_20141108_prod \\\n",
      "WHERE (sip >= $LIPINT AND sip <= $RIPINT) OR \\\n",
      "(dip >= $LIPINT AND dip <= $RIPINT)  \\\n",
      "SORT BY sip,dip \\\n",
      "-hiveconf hive.root.logger=INFO' > \\\n",
      "'/home/hadoop/ipython/dataset/results.txt'\n",
      "!echo 'results returned: '\n",
      "!wc -l /home/hadoop/ipython/dataset/results.txt"
     ],
     "language": "python",
     "metadata": {},
     "outputs": []
    },
    {
     "cell_type": "code",
     "collapsed": false,
     "input": [
      "ipsites = {'10.21.0.0':27,'134.134.137.64':27,'134.134.139.64':27,'134.191.220.64':27,\n",
      "           '134.191.221.64':27,'134.191.232.64':27,'192.102.204.32':27,'192.198.146.160':27,\n",
      "           '192.198.151.32':27,'192.55.46.32':27,'192.55.54.32':27,'192.55.55.32':27,\n",
      "           '192.55.79.160':27,'198.175.68.32':27,'58.32.203.132':27}\n",
      "for site in ipsites:\n",
      "    #print ipsites[site]\n",
      "    #print struct.unpack(\"!L\", socket.inet_aton(site))[0],struct.unpack(\"!L\", socket.inet_aton(site))[0]+ipsites[site]\n",
      "    print  \"hive -S -e \\\"SELECT * FROM nfts_20141108_stage3 WHERE (sip >=\"+ str(struct.unpack(\"!L\", socket.inet_aton(site))[0]) + \" \\\\\"\n",
      "    print \"AND sip <= \" + str(struct.unpack(\"!L\", socket.inet_aton(site))[0]+ipsites[site]) + \") OR \\\\\"\n",
      "    print \"(dip >=\"+ str(struct.unpack(\"!L\", socket.inet_aton(site))[0]) + \" AND dip <= \\\\\"\n",
      "    print str(struct.unpack(\"!L\", socket.inet_aton(site))[0]+ipsites[site]) + \") SORT BY sip, dip\\\" > \\\\\"\n",
      "    print \"results_20141108_\" + site.replace('.','_') + \".tsv\"\n",
      "    "
     ],
     "language": "python",
     "metadata": {},
     "outputs": [
      {
       "output_type": "stream",
       "stream": "stdout",
       "text": [
        "hive -S -e \"SELECT * FROM nfts_20141108_stage3 WHERE (sip >=3224841760 \\\n",
        "AND sip <= 3224841787) OR \\\n",
        "(dip >=3224841760 AND dip <= \\\n",
        "3224841787) SORT BY sip, dip\" > \\\n",
        "results_20141108_192_55_46_32.tsv\n",
        "hive -S -e \"SELECT * FROM nfts_20141108_stage3 WHERE (sip >=2260720960 \\\n",
        "AND sip <= 2260720987) OR \\\n",
        "(dip >=2260720960 AND dip <= \\\n",
        "2260720987) SORT BY sip, dip\" > \\\n",
        "results_20141108_134_191_221_64.tsv\n",
        "hive -S -e \"SELECT * FROM nfts_20141108_stage3 WHERE (sip >=3227962400 \\\n",
        "AND sip <= 3227962427) OR \\\n",
        "(dip >=3227962400 AND dip <= \\\n",
        "3227962427) SORT BY sip, dip\" > \\\n",
        "results_20141108_192_102_204_32.tsv\n",
        "hive -S -e \"SELECT * FROM nfts_20141108_stage3 WHERE (sip >=2260720704 \\\n",
        "AND sip <= 2260720731) OR \\\n",
        "(dip >=2260720704 AND dip <= \\\n",
        "2260720731) SORT BY sip, dip\" > \\\n",
        "results_20141108_134_191_220_64.tsv\n",
        "hive -S -e \"SELECT * FROM nfts_20141108_stage3 WHERE (sip >=3234240288 \\\n",
        "AND sip <= 3234240315) OR \\\n",
        "(dip >=3234240288 AND dip <= \\\n",
        "3234240315) SORT BY sip, dip\" > \\\n",
        "results_20141108_192_198_151_32.tsv\n",
        "hive -S -e \"SELECT * FROM nfts_20141108_stage3 WHERE (sip >=2260723776 \\\n",
        "AND sip <= 2260723803) OR \\\n",
        "(dip >=2260723776 AND dip <= \\\n",
        "2260723803) SORT BY sip, dip\" > \\\n",
        "results_20141108_134_191_232_64.tsv\n",
        "hive -S -e \"SELECT * FROM nfts_20141108_stage3 WHERE (sip >=975227780 \\\n",
        "AND sip <= 975227807) OR \\\n",
        "(dip >=975227780 AND dip <= \\\n",
        "975227807) SORT BY sip, dip\" > \\\n",
        "results_20141108_58_32_203_132.tsv\n",
        "hive -S -e \"SELECT * FROM nfts_20141108_stage3 WHERE (sip >=3224844064 \\\n",
        "AND sip <= 3224844091) OR \\\n",
        "(dip >=3224844064 AND dip <= \\\n",
        "3224844091) SORT BY sip, dip\" > \\\n",
        "results_20141108_192_55_55_32.tsv\n",
        "hive -S -e \"SELECT * FROM nfts_20141108_stage3 WHERE (sip >=2256964416 \\\n",
        "AND sip <= 2256964443) OR \\\n",
        "(dip >=2256964416 AND dip <= \\\n",
        "2256964443) SORT BY sip, dip\" > \\\n",
        "results_20141108_134_134_139_64.tsv\n",
        "hive -S -e \"SELECT * FROM nfts_20141108_stage3 WHERE (sip >=3333375008 \\\n",
        "AND sip <= 3333375035) OR \\\n",
        "(dip >=3333375008 AND dip <= \\\n",
        "3333375035) SORT BY sip, dip\" > \\\n",
        "results_20141108_198_175_68_32.tsv\n",
        "hive -S -e \"SELECT * FROM nfts_20141108_stage3 WHERE (sip >=3224850336 \\\n",
        "AND sip <= 3224850363) OR \\\n",
        "(dip >=3224850336 AND dip <= \\\n",
        "3224850363) SORT BY sip, dip\" > \\\n",
        "results_20141108_192_55_79_160.tsv\n",
        "hive -S -e \"SELECT * FROM nfts_20141108_stage3 WHERE (sip >=2256963904 \\\n",
        "AND sip <= 2256963931) OR \\\n",
        "(dip >=2256963904 AND dip <= \\\n",
        "2256963931) SORT BY sip, dip\" > \\\n",
        "results_20141108_134_134_137_64.tsv\n",
        "hive -S -e \"SELECT * FROM nfts_20141108_stage3 WHERE (sip >=3224843808 \\\n",
        "AND sip <= 3224843835) OR \\\n",
        "(dip >=3224843808 AND dip <= \\\n",
        "3224843835) SORT BY sip, dip\" > \\\n",
        "results_20141108_192_55_54_32.tsv\n",
        "hive -S -e \"SELECT * FROM nfts_20141108_stage3 WHERE (sip >=169148416 \\\n",
        "AND sip <= 169148443) OR \\\n",
        "(dip >=169148416 AND dip <= \\\n",
        "169148443) SORT BY sip, dip\" > \\\n",
        "results_20141108_10_21_0_0.tsv\n",
        "hive -S -e \"SELECT * FROM nfts_20141108_stage3 WHERE (sip >=3234239136 \\\n",
        "AND sip <= 3234239163) OR \\\n",
        "(dip >=3234239136 AND dip <= \\\n",
        "3234239163) SORT BY sip, dip\" > \\\n",
        "results_20141108_192_198_146_160.tsv\n"
       ]
      }
     ],
     "prompt_number": 27
    },
    {
     "cell_type": "code",
     "collapsed": false,
     "input": [],
     "language": "python",
     "metadata": {},
     "outputs": []
    }
   ],
   "metadata": {}
  }
 ]
}