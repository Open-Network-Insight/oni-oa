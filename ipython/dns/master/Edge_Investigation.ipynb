{
 "cells": [
  {
   "cell_type": "markdown",
   "metadata": {},
   "source": [
    "## Get Suspicious DNS"
   ]
  },
  {
   "cell_type": "code",
   "execution_count": null,
   "metadata": {
    "collapsed": false
   },
   "outputs": [],
   "source": [
    "import urllib2\n",
    "import json\n",
    "import os\n",
    "\n",
    "# getting date from the parent path.\n",
    "path = os.getcwd().split(\"/\")\n",
    "date = path[len(path)-1] \n",
    "\n",
    "spath = os.environ['LUSER'] + '/ipython/dns/user/' + date + '/'\n",
    "sconnect = spath + 'dns_scores.csv'\n",
    "# sconnectbu = spath + 'dns_scores_bu.csv'\n",
    "sconnectbu = spath + 'score_tmp.csv'\n",
    "tmpconnect = sconnect+'.tmp'\n",
    "stemp = sconnect + '.new'\n",
    "coff = 150;\n",
    "ips = []\n",
    "dns = []\n",
    "with open(sconnect, 'r') as f:\n",
    "    reader = csv.reader(f, delimiter=',')\n",
    "    reader.next()\n",
    "    for row in reader: \n",
    "        # frame_time, frame_len, ip_dst, dns_qry_name, dns_qry_class,  dns_qry_type, dns_qry_rcode, domain, subdomain, \n",
    "        #      0    ,      1   ,    2  ,       3     ,          4   ,         5    ,        6     ,   7   ,    8     ,\n",
    "        #subdomain_length, query_length, num_periods, subdomain_entropy, top_domain, word, score, query_rep, \n",
    "        #      9          ,      10    ,     11     ,    12            ,      13   ,  14 ,   15  ,   16    ,   \n",
    "        # hh, ip_sev, dns_sev\n",
    "        # 17,   18  ,   19 \n",
    "        if row[2] not in ips: \n",
    "             ips.append(row[2])\n",
    "        if row[3] not in dns:\n",
    "            dns.append(row[3]) \n",
    "        "
   ]
  },
  {
   "cell_type": "code",
   "execution_count": null,
   "metadata": {
    "collapsed": false
   },
   "outputs": [],
   "source": [
    "import ipywidgets as widgets\n",
    "# from IPython.html import widgets\n",
    "# from IPython.html.widgets import interact, interactive, fixed\n",
    "from IPython.display import display, HTML, clear_output, Javascript \n",
    "\n",
    "def fill_list(list_control,source):\n",
    "    options_list = ['--Select--'] \n",
    "    options_list.extend([s for s in source])\n",
    "    list_control.options = options_list\n",
    "\n",
    "# client panel\n",
    "client_header = widgets.HTML(value=\"Client IP\")\n",
    "client_select = widgets.Select(height=190, width=120)  \n",
    "fill_list(client_select,ips)\n",
    "client_select.value = \"--Select--\"\n",
    "client_box = widgets.Box(width=150, height=200)\n",
    "client_box.children = [client_header, client_select]\n",
    "\n",
    "# query panel\n",
    "query_header = widgets.HTML(value=\"Query\")\n",
    "query_select = widgets.Select(height=190, width=250) \n",
    "fill_list(query_select,dns)\n",
    "\n",
    "query_box = widgets.Box(width=300, height=210)\n",
    "query_box.children = [query_header, query_select]\n",
    "\n",
    "# Actions Panel\n",
    "actions_header = widgets.HTML(value=\"&nbsp;\")\n",
    "rating_btn = widgets.RadioButtons(description='Rating:', options=['1', '2', '3'], width=90)\n",
    "assign_btn = widgets.Button(description='Score')\n",
    "save_btn = widgets.Button(description='Save')\n",
    "actions_box = widgets.Box(width=300, height=210)\n",
    "actions_box.children = [actions_header,rating_btn, assign_btn,save_btn]\n",
    "\n",
    "scoring_form = widgets.HBox(width=600, height=200)\n",
    "scoring_form.children = [client_box,query_box,actions_box]\n",
    "\n",
    "display(Javascript(\"$('.widget-area > .widget-subarea > *').remove();\"))\n",
    "display(scoring_form) \n"
   ]
  },
  {
   "cell_type": "markdown",
   "metadata": {},
   "source": [
    "## Update Suspicious DNS"
   ]
  },
  {
   "cell_type": "code",
   "execution_count": null,
   "metadata": {
    "collapsed": false
   },
   "outputs": [],
   "source": [
    "import csv\n",
    "import datetime\n",
    "import subprocess \n",
    "\n",
    "def assign_score(b):\n",
    "    \n",
    "    ip = client_select.value if not \"--Select--\" in client_select.value else \"\"\n",
    "    dns = query_select.value if not \"--Select--\" in query_select.value else \"\"     \n",
    "    ip_sev = int(rating_btn.selected_label) if not \"--Select--\" in client_select.value else \"\"\n",
    "    dns_sev = int(rating_btn.selected_label) if not \"--Select--\" in query_select.value else \"\"    \n",
    "    mod_date = datetime.datetime.now()\n",
    "    mod_user = \"IPython\"\n",
    "    score_values = [ip,dns,ip_sev,dns_sev,mod_date,mod_user]    \n",
    "    csv_type = 'a' if os.path.isfile(\"score_tmp.csv\") else 'w'     \n",
    "\n",
    "    with open(sconnect, 'r') as f:\n",
    "        reader = csv.reader(f, delimiter=',')\n",
    "        reader.next()\n",
    "        with open(sconnectbu,csv_type) as score:\n",
    "            wr = csv.writer(score, delimiter=',',quotechar='|', quoting=csv.QUOTE_MINIMAL)\n",
    "            wr.writerow(['frame_time'] + ['frame_len'] + ['ip_dst'] + ['dns_qry_name'] + ['dns_qry_class'] + \n",
    "                        ['dns_qry_type'] + ['dns_qry_rcode']+['domain']+\n",
    "                         ['subdomain']+['subdomain_length']+['query_length']+\n",
    "                         ['num_periods']+['subdomain_entropy'] + ['top_domain']+['word']+\n",
    "                         ['score']+['query_rep']+['hh']+['ip_sev']+['dns_sev'])  \n",
    "            for row in reader: \n",
    "                # frame_time, frame_len, ip_dst, dns_qry_name, dns_qry_class,  dns_qry_type, dns_qry_rcode, domain, subdomain, \n",
    "                #      0    ,      1   ,    2  ,       3     ,          4   ,         5    ,        6     ,   7   ,    8     ,\n",
    "                #subdomain_length, query_length, num_periods, subdomain_entropy, top_domain, word, score, query_rep, \n",
    "                #      9          ,      10    ,     11     ,    12            ,      13   ,  14 ,   15  ,   16    ,   \n",
    "                # hh, ip_sev, dns_sev\n",
    "                # 17,   18  ,   19 \n",
    "                if row[2] == score_values[0]: \n",
    "                     row[18] = score_values[2]\n",
    "                if row[3] == score_values[1]: \n",
    "                     row[19] = score_values[3]     \n",
    "                wr.writerow(row)        \n",
    "    \n",
    "    !cp $sconnectbu $sconnect\n",
    "    !rm -f $sconnectbu \n",
    "    \n",
    "    client_select.value = \"--Select--\"\n",
    "    query_select.value = \"--Select--\"\n",
    "    \n",
    "#     if ip != \"--Select--\":\n",
    "#         display(Javascript(\"$(\\\"option[data-value='\" + ip +\"']\\\").remove();\"))\n",
    "\n",
    "#     if dns != \"--Select--\":\n",
    "#         display(Javascript(\"$(\\\"option[data-value='\" + dns +\"']\\\").remove();\")) \n",
    "    \n",
    "\n",
    "def save(b):  \n",
    "    display(Javascript('reloadParentData();'))\n",
    "        \n",
    "assign_btn.on_click(assign_score)\n",
    "save_btn.on_click(save)"
   ]
  },
  {
   "cell_type": "code",
   "execution_count": null,
   "metadata": {
    "collapsed": true
   },
   "outputs": [],
   "source": []
  },
  {
   "cell_type": "code",
   "execution_count": null,
   "metadata": {
    "collapsed": true
   },
   "outputs": [],
   "source": []
  }
 ],
 "metadata": {
  "kernelspec": {
   "display_name": "Python 2",
   "language": "python",
   "name": "python2"
  },
  "language_info": {
   "codemirror_mode": {
    "name": "ipython",
    "version": 2
   },
   "file_extension": ".py",
   "mimetype": "text/x-python",
   "name": "python",
   "nbconvert_exporter": "python",
   "pygments_lexer": "ipython2",
   "version": "2.7.8"
  }
 },
 "nbformat": 4,
 "nbformat_minor": 0
}
