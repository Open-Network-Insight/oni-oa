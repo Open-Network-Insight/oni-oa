{
 "cells": [
  {
   "cell_type": "markdown",
   "metadata": {},
   "source": [
    "<h4> Save for Storyboard </h4>"
   ]
  },
  {
   "cell_type": "code",
   "execution_count": 337,
   "metadata": {
    "collapsed": false,
    "slideshow": {
     "slide_type": "skip"
    }
   },
   "outputs": [],
   "source": [
    "import struct, socket\n",
    "import numpy as np \n",
    "import csv, json \n",
    "import os \n",
    "import urllib2 \n",
    "import datetime\n",
    "import operator\n",
    "\n",
    "#import ipywidgets as widgets # if your using jupyter/ipython < 1.4 please comment this line and uncomment the lines below\n",
    "from IPython.html import widgets\n",
    "from IPython.html.widgets import interact, interactive, fixed\n",
    "from IPython.display import display, HTML, clear_output, Javascript \n",
    "\n",
    "\n",
    "path = os.getcwd().split(\"/\")\n",
    "date = path[len(path)-1] \n",
    "spath = os.getcwd() \n",
    "data_src = 'http://localhost:8895/app/api/dns/threat_investigation/' \n",
    "content_type = {'Content-Type':'application/json'}\n",
    "anchor = ''\n",
    "anchor_type = ''"
   ]
  },
  {
   "cell_type": "markdown",
   "metadata": {},
   "source": [
    "**Interface**"
   ]
  },
  {
   "cell_type": "code",
   "execution_count": 338,
   "metadata": {
    "collapsed": false,
    "scrolled": true
   },
   "outputs": [],
   "source": [
    "##Expanded search\n",
    "susp_box   =  widgets.HBox(width=500, height=150)    \n",
    "susp_h_box =  widgets.Box(width=500, height=200)    \n",
    "susp_title =  widgets.HTML(value='<h4>Expanded search</h4>')\n",
    "susp_select = widgets.Select(width=300)\n",
    "search_btn = widgets.Button(description='Search')\n",
    "susp_box.children = [susp_select,search_btn]\n",
    "susp_h_box.children = [susp_title,susp_box] \n",
    "\n",
    "##Search Results\n",
    "result_title = widgets.HTML(value='<h4>Search results</h4>')     \n",
    "result_html = widgets.HTML(width=500)\n",
    "result_box  = widgets.Box(width=500)\n",
    "result_box.children = [result_title, result_html]               \n",
    "\n",
    "#Threat Summary\n",
    "tc_box_main = widgets.Box(width=500, height=200)    \n",
    "threat_container = widgets.HBox(width=500, height=150)\n",
    "tc_box_separator = widgets.Box(width=500, height=15)     \n",
    "tc_div_label = widgets.HTML()            \n",
    "tc_txt_title = widgets.Text(value='',width=300, placeholder='Threat Title')\n",
    "tc_txa_summary = widgets.Textarea(value='', width=300, height=100)\n",
    "tc_btn_save = widgets.Button(description='Save')\n",
    "threat_container.children = [tc_txa_summary,tc_btn_save]\n",
    "tc_box_main.children = [tc_div_label, tc_txt_title, tc_box_separator, threat_container]  \n",
    "\n",
    "def start_investigation():\n",
    "    ips_query = {}  \n",
    "    url = data_src + date\n",
    "    reader = json.loads(urllib2.urlopen(url).read())\n",
    "    display(Javascript(\"$('.widget-area > .widget-subarea > *').remove();\"))\n",
    "       \n",
    "    for row in reader['data']:    \n",
    "        if row['ip_sev'] == 1: \n",
    "            ips_query[row['ip_dst']]='i'\n",
    "        if row['dns_sev'] == 1:\n",
    "            ips_query[row['ip_dst']]='q' \n",
    "            \n",
    "    if len(ips_query) == 0:\n",
    "        result_html = widgets.HTML(value=\"There are not high risk results.\", width=500)\n",
    "        result_box  = widgets.Box(width=500, height=150)\n",
    "        result_box.children = [result_html]        \n",
    "        display(result_box)              \n",
    "    else:  \n",
    "        sorted_dict = sorted(ips_query.items(), key=operator.itemgetter(0))      \n",
    "        display_controls(sorted_dict)   \n",
    "\n",
    "        \n",
    "def display_controls(ip_list): \n",
    "    susp_select.options = ip_list\n",
    "    susp_select.height=min(len(ip_list)*18,150)\n",
    "    susp_select.selected_label = ip_list[0][0]\n",
    "    display(susp_h_box)\n",
    "  \n",
    "    def search_ip(b):  \n",
    "        global anchor \n",
    "        global anchor_type\n",
    "        anchor = ''\n",
    "        anchor_type = ''\n",
    "        anchor = susp_select.selected_label  \n",
    "        anchor_type = susp_select.value \n",
    "        removeWidget(2)\n",
    "        removeWidget(1) \n",
    "            \n",
    "        table = \"<table><th>IP</th><th>QUERY</th><th>TOTAL</th>\"\n",
    "         \n",
    "        if anchor_type == 'i':\n",
    "            params  = '{\"ip_dst\":\"'+ anchor + '\"}'\n",
    "        elif anchor_type == 'q':\n",
    "            params  = '{\"dns_qry_name\":\"'+ anchor + '\"}'\n",
    "            \n",
    "        url = data_src + \"visual/\" + date \n",
    "        request = urllib2.Request(url, params, content_type)\n",
    "        results = json.loads(urllib2.urlopen(request).read())         \n",
    "        \n",
    "        if len(results['data']) > 0:\n",
    "            for row in results['data']:  \n",
    "                table += \"<tr><td>\" +  row['ip_dst'] + \"</td><td>\" + row['dns_qry_name'] + \"</td><td>\" + str(row['total']) + \"</td></tr>\"  \n",
    "            table += \"</table>\"       \n",
    "        else: \n",
    "            table = \"No additional threats found for {0}\".format(anchor)\n",
    "        \n",
    "        result_html.value=table\n",
    "        result_box.height=max(200,len(results['data'])*25)\n",
    "        display_threat_box(anchor)\n",
    "        display(result_box)\n",
    "    \n",
    "    search_btn.on_click(search_ip)\n",
    "\n",
    "        \n",
    "def display_threat_box(ip):    \n",
    "    tc_div_label.value='<h4>Threat summary for ' + anchor +'</h4>'\n",
    "    display(tc_box_main)     \n",
    "    \n",
    "    def save_threat_summary(b):\n",
    "        global anchor\n",
    "        anchor_ip =''\n",
    "        anchor_dns ='' \n",
    "        if anchor != '':\n",
    "            file_name = spath + \"/threat_comments.csv\" \n",
    "            if anchor_type == 'i':\n",
    "                anchor_ip = anchor\n",
    "            elif anchor_type == 'q':\n",
    "                anchor_dns = anchor\n",
    "                \n",
    "            dt = str(datetime.datetime.now())\n",
    "            yy = date[0:4]\n",
    "            mm = date[4:6]\n",
    "            dd = date[6:8]\n",
    "            usr = \"IPython\"\n",
    "    \n",
    "            with open(file_name, 'a') as comment:\n",
    "                comment.write(anchor_ip + '|' + anchor_dns + '|' + tc_txt_title.value + '|' + tc_txa_summary.value.replace('\\n', '\\\\n') + '|' + dt + '|' + usr + '|' + yy + '|' + mm + '|' + dd + \"\\n\")                 \n",
    "            url = data_src + \"comments/\" + date  \n",
    "            params  = '{\"data\":\"' + file_name + '\"}'  \n",
    "            results = urllib2.urlopen(urllib2.Request(url, params, content_type)).read()\n",
    "            \n",
    "            if results:\n",
    "                os.remove(file_name)               \n",
    "                removeWidget(2)\n",
    "                removeWidget(1) \n",
    "                display(Javascript(\"$(\\\"option[data-value='\" + anchor  +\"']\\\").remove();\"))    \n",
    "                response = \"Successfully saved\"\n",
    "            else:\n",
    "                response = results \n",
    "        else:\n",
    "            response = \"No data selected\"\n",
    "            \n",
    "        save_html = widgets.HTML(value=response, width=500)\n",
    "        save_box  = widgets.Box(width=500, height=150)\n",
    "        save_box.children = [save_html]  \n",
    "        susp_select.selected_label = susp_select.options[0][0]\n",
    "        display(save_box)     \n",
    "        \n",
    "        \n",
    "    tc_btn_save.on_click(save_threat_summary)\n",
    "    \n",
    "\n",
    "def removeWidget(index):\n",
    "    js_command = \"var widget_list = $('.widget-area').children('.widget-subarea').children('.widget-box'); \\n\"\n",
    "    js_command = js_command + \"if(widget_list.length > {0} ) \\n \".format(index)\n",
    "    js_command = js_command + \"widget_list[{0}].remove(); \\n \".format(index)\n",
    "    \n",
    "    display(Javascript(js_command))  "
   ]
  },
  {
   "cell_type": "code",
   "execution_count": 339,
   "metadata": {
    "collapsed": false,
    "scrolled": true
   },
   "outputs": [
    {
     "data": {
      "application/javascript": [
       "$('.widget-area > .widget-subarea > *').remove();"
      ],
      "text/plain": [
       "<IPython.core.display.Javascript object>"
      ]
     },
     "metadata": {},
     "output_type": "display_data"
    },
    {
     "data": {
      "application/javascript": [
       "var widget_list = $('.widget-area').children('.widget-subarea').children('.widget-box'); \n",
       "if(widget_list.length > 2 ) \n",
       " widget_list[2].remove(); \n",
       " "
      ],
      "text/plain": [
       "<IPython.core.display.Javascript object>"
      ]
     },
     "metadata": {},
     "output_type": "display_data"
    },
    {
     "data": {
      "application/javascript": [
       "var widget_list = $('.widget-area').children('.widget-subarea').children('.widget-box'); \n",
       "if(widget_list.length > 1 ) \n",
       " widget_list[1].remove(); \n",
       " "
      ],
      "text/plain": [
       "<IPython.core.display.Javascript object>"
      ]
     },
     "metadata": {},
     "output_type": "display_data"
    }
   ],
   "source": [
    "start_investigation()"
   ]
  },
  {
   "cell_type": "code",
   "execution_count": null,
   "metadata": {
    "collapsed": true
   },
   "outputs": [],
   "source": []
  }
 ],
 "metadata": {
  "kernelspec": {
   "display_name": "Python 2",
   "language": "python",
   "name": "python2"
  },
  "language_info": {
   "codemirror_mode": {
    "name": "ipython",
    "version": 2
   },
   "file_extension": ".py",
   "mimetype": "text/x-python",
   "name": "python",
   "nbconvert_exporter": "python",
   "pygments_lexer": "ipython2",
   "version": "2.7.5"
  }
 },
 "nbformat": 4,
 "nbformat_minor": 0
}
