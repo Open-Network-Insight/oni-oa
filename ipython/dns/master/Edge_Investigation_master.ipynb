{
 "cells": [
  {
   "cell_type": "markdown",
   "metadata": {},
   "source": [
    "## Get Suspicious DNS"
   ]
  },
  {
   "cell_type": "code",
   "execution_count": 46,
   "metadata": {
    "collapsed": false
   },
   "outputs": [],
   "source": [
    "import urllib2\n",
    "import json\n",
    "import os\n",
    "\n",
    "api_root = 'http://localhost:8895/app/api'\n",
    "\n",
    "# getting date from the parent path.\n",
    "path = os.getcwd().split(\"/\")\n",
    "date = path[len(path)-1]\n",
    "url = '{0}/dns/edge/{1}'.format(api_root, date)\n",
    "\n",
    "content_type = {'Content-Type': 'application/json'}\n",
    "\n",
    "# get suspicious IPs.\n",
    "ip_req = urllib2.Request(url, '{\"filter\":\"ip_dst\"}', content_type)\n",
    "response_ip = urllib2.urlopen(ip_req).read()\n",
    "ips = json.loads(response_ip)\n",
    "\n",
    "# get suspicious DNS.\n",
    "dns_req = urllib2.Request(url, '{\"filter\":\"dns_qry_name\"}', content_type)\n",
    "response_dns = urllib2.urlopen(dns_req).read()\n",
    "dns = json.loads(response_dns)"
   ]
  },
  {
   "cell_type": "markdown",
   "metadata": {},
   "source": [
    "##Build Interface"
   ]
  },
  {
   "cell_type": "code",
   "execution_count": 47,
   "metadata": {
    "collapsed": false
   },
   "outputs": [
    {
     "data": {
      "application/javascript": [
       "$('.widget-area > .widget-subarea > *').remove();"
      ],
      "text/plain": [
       "<IPython.core.display.Javascript object>"
      ]
     },
     "metadata": {},
     "output_type": "display_data"
    }
   ],
   "source": [
    "10.# build user interface\n",
    "from IPython.html import widgets\n",
    "from IPython.display import display, Javascript\n",
    "#import ipywidgets as widgets\n",
    "\n",
    "\n",
    "\n",
    "def fill_list(list_control,source,parameter_value):\n",
    "    options_list = ['--Select--'] \n",
    "    options_list.extend([s[parameter_value] for s in source])\n",
    "    list_control.options = options_list\n",
    "   \n",
    "    \n",
    "# client panel\n",
    "client_header = widgets.HTML(value=\"Client IP\")\n",
    "client_select = widgets.Select(height=190, width=120)  \n",
    "fill_list(client_select,ips['data'],'ip_dst')\n",
    "client_select.value = \"--Select--\"\n",
    "client_box = widgets.Box(width=150, height=200)\n",
    "client_box.children = [client_header, client_select]\n",
    "\n",
    "# query panel\n",
    "query_header = widgets.HTML(value=\"Query\")\n",
    "query_select = widgets.Select(height=190, width=250) \n",
    "fill_list(query_select,dns['data'],'dns_qry_name')\n",
    "\n",
    "query_box = widgets.Box(width=300, height=210)\n",
    "query_box.children = [query_header, query_select]\n",
    "\n",
    "# Actions Panel\n",
    "actions_header = widgets.HTML(value=\"&nbsp;\")\n",
    "quick_text = widgets.Text(value='',width=150, placeholder='Quick scoring')\n",
    "rating_btn = widgets.RadioButtons(description='Rating:', options=['1', '2', '3'], width=90)\n",
    "assign_btn = widgets.Button(description='Score')\n",
    "save_btn = widgets.Button(description='Save')\n",
    "actions_box = widgets.Box(width=300, height=210)\n",
    "actions_box.children = [actions_header, quick_text, rating_btn, assign_btn,save_btn]\n",
    "\n",
    "scoring_form = widgets.HBox(width=600, height=200)\n",
    "scoring_form.children = [client_box,query_box,actions_box]\n",
    "\n",
    "display(Javascript(\"$('.widget-area > .widget-subarea > *').remove();\"))\n",
    "display(scoring_form) \n"
   ]
  },
  {
   "cell_type": "markdown",
   "metadata": {},
   "source": [
    "## Update Suspicious DNS"
   ]
  },
  {
   "cell_type": "code",
   "execution_count": 48,
   "metadata": {
    "collapsed": true
   },
   "outputs": [],
   "source": [
    "import csv\n",
    "import datetime\n",
    "import subprocess \n",
    "\n",
    "def assign_score(b):\n",
    "    ip_sev = int(rating_btn.selected_label) if not \"--Select--\" in client_select.value else \"\"\n",
    "    dns_sev = int(rating_btn.selected_label) if not \"--Select--\" in query_select.value else \"\"    \n",
    "    mod_date = datetime.datetime.now()\n",
    "    mod_user = \"IPython\"\n",
    "    \n",
    "    if quick_text.value:\n",
    "        ip = \"\"\n",
    "        dns = quick_text.value\n",
    "        \n",
    "        # Loop over every element in query_select widget\n",
    "        score_values = []\n",
    "        for query in query_select.options:\n",
    "            if query.endswith(dns):\n",
    "                # Matching element, create one row\n",
    "                score_values.append((ip,query,ip_sev,dns_sev,mod_date,mod_user))\n",
    "    else:\n",
    "        ip = client_select.value if not \"--Select--\" in client_select.value else \"\"\n",
    "        dns = query_select.value if not \"--Select--\" in query_select.value else \"\"\n",
    "        score_values = ((ip,dns,ip_sev,dns_sev,mod_date,mod_user),)\n",
    "    \n",
    "    csv_type = 'a' if os.path.isfile(\"score_tmp.csv\") else 'w'     \n",
    "    \n",
    "    with open('score_tmp.csv',csv_type) as score:\n",
    "        wr = csv.writer(score, delimiter=',',quotechar='|', quoting=csv.QUOTE_MINIMAL)\n",
    "        \n",
    "        # Append every row in score_values to file\n",
    "        for row in score_values:\n",
    "            wr.writerow(row)\n",
    "    \n",
    "    if ip != \"--Select--\":\n",
    "        display(Javascript(\"$(\\\"option[data-value='\" + ip +\"']\\\").remove();\"))\n",
    "\n",
    "    if quick_text.value:\n",
    "        display(Javascript(\"$(\\\"option[data-value$='\" + quick_text.value +\"']\\\").remove();\"))\n",
    "    elif dns != \"--Select--\":\n",
    "        display(Javascript(\"$(\\\"option[data-value='\" + dns +\"']\\\").remove();\"))\n",
    "    \n",
    "    client_select.value = \"--Select--\"\n",
    "    query_select.value = \"--Select--\"\n",
    "    quick_text.value = \"\"\n",
    "\n",
    "\n",
    "def save(b):\n",
    "    insert_url = \"{0}/dns/scoring\".format(api_root)\n",
    "    data = \"{0}/score_tmp.csv\".format(os.getcwd())\n",
    "    insert_req = urllib2.Request(insert_url,'{\"data\":\"'+ data +'\",\"date\":\"'+ date +'\"}', content_type)\n",
    "    response_insert = urllib2.urlopen(insert_req).read()  \n",
    "    \n",
    "    display(Javascript('reloadParentData();'))\n",
    "        \n",
    "assign_btn.on_click(assign_score)\n",
    "save_btn.on_click(save)"
   ]
  }
 ],
 "metadata": {
  "kernelspec": {
   "display_name": "Python 2",
   "language": "python",
   "name": "python2"
  },
  "language_info": {
   "codemirror_mode": {
    "name": "ipython",
    "version": 2
   },
   "file_extension": ".py",
   "mimetype": "text/x-python",
   "name": "python",
   "nbconvert_exporter": "python",
   "pygments_lexer": "ipython2",
   "version": "2.7.5"
  }
 },
 "nbformat": 4,
 "nbformat_minor": 0
}
